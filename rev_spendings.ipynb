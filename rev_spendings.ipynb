{
 "cells": [
  {
   "cell_type": "code",
   "execution_count": 1,
   "id": "521d78e1",
   "metadata": {},
   "outputs": [],
   "source": [
    "import pandas as pd\n",
    "import matplotlib.pyplot as plt"
   ]
  },
  {
   "cell_type": "markdown",
   "id": "d103a910",
   "metadata": {},
   "source": [
    "Read the data"
   ]
  },
  {
   "cell_type": "code",
   "execution_count": 2,
   "id": "4ca58c9f",
   "metadata": {},
   "outputs": [],
   "source": [
    "data = pd.read_csv(\"dataset/rev_spendings_june.csv\")"
   ]
  },
  {
   "cell_type": "markdown",
   "id": "dfff23f1",
   "metadata": {},
   "source": [
    "Show the first 10 payments"
   ]
  },
  {
   "cell_type": "code",
   "execution_count": 3,
   "id": "61b31365",
   "metadata": {},
   "outputs": [
    {
     "data": {
      "application/vnd.microsoft.datawrangler.viewer.v0+json": {
       "columns": [
        {
         "name": "index",
         "rawType": "int64",
         "type": "integer"
        },
        {
         "name": "Type",
         "rawType": "object",
         "type": "string"
        },
        {
         "name": "Product",
         "rawType": "object",
         "type": "string"
        },
        {
         "name": "Started Date",
         "rawType": "object",
         "type": "string"
        },
        {
         "name": "Completed Date",
         "rawType": "object",
         "type": "string"
        },
        {
         "name": "Description",
         "rawType": "object",
         "type": "string"
        },
        {
         "name": "Amount",
         "rawType": "float64",
         "type": "float"
        },
        {
         "name": "Fee",
         "rawType": "float64",
         "type": "float"
        },
        {
         "name": "Currency",
         "rawType": "object",
         "type": "string"
        },
        {
         "name": "State",
         "rawType": "object",
         "type": "string"
        },
        {
         "name": "Balance",
         "rawType": "float64",
         "type": "float"
        }
       ],
       "ref": "c3dc50a3-e99f-41a3-92ac-f20ec8ebad4f",
       "rows": [
        [
         "0",
         "CARD_PAYMENT",
         "Current",
         "2025-05-31 14:43:41",
         "2025-06-01 05:04:38",
         "Cinema City",
         "-29.0",
         "0.0",
         "RON",
         "COMPLETED",
         "2163.36"
        ],
        [
         "1",
         "CARD_PAYMENT",
         "Current",
         "2025-05-31 13:06:08",
         "2025-06-01 07:27:47",
         "Mega Image",
         "-7.78",
         "0.0",
         "RON",
         "COMPLETED",
         "2155.58"
        ],
        [
         "2",
         "CARD_PAYMENT",
         "Current",
         "2025-05-31 18:06:35",
         "2025-06-01 07:27:50",
         "Mega Image",
         "-19.96",
         "0.0",
         "RON",
         "COMPLETED",
         "2135.62"
        ],
        [
         "3",
         "CARD_PAYMENT",
         "Current",
         "2025-05-31 18:49:10",
         "2025-06-01 07:27:52",
         "Mega Image",
         "-32.98",
         "0.0",
         "RON",
         "COMPLETED",
         "2102.64"
        ],
        [
         "4",
         "CARD_PAYMENT",
         "Current",
         "2025-05-31 11:44:39",
         "2025-06-01 14:30:08",
         "Cinema City",
         "-33.0",
         "0.0",
         "RON",
         "COMPLETED",
         "2069.64"
        ],
        [
         "5",
         "CARD_PAYMENT",
         "Current",
         "2025-06-01 12:38:58",
         "2025-06-02 05:35:16",
         "STB Bucuresti",
         "-6.0",
         "0.0",
         "RON",
         "COMPLETED",
         "2063.64"
        ],
        [
         "6",
         "CARD_PAYMENT",
         "Current",
         "2025-06-01 14:38:56",
         "2025-06-02 05:35:17",
         "STB Bucuresti",
         "-6.0",
         "0.0",
         "RON",
         "COMPLETED",
         "2057.64"
        ],
        [
         "7",
         "CARD_PAYMENT",
         "Current",
         "2025-06-01 13:46:38",
         "2025-06-02 07:35:29",
         "Roxel Cart",
         "-17.0",
         "0.0",
         "RON",
         "COMPLETED",
         "2040.64"
        ],
        [
         "8",
         "TRANSFER",
         "Current",
         "2025-06-02 18:50:04",
         "2025-06-02 18:50:04",
         "Transfer from Revolut user",
         "5.0",
         "0.0",
         "RON",
         "COMPLETED",
         "2045.64"
        ],
        [
         "9",
         "TRANSFER",
         "Current",
         "2025-06-02 18:50:35",
         "2025-06-02 18:50:36",
         "Transfer to Revolut user",
         "-5.0",
         "0.0",
         "RON",
         "COMPLETED",
         "2040.64"
        ]
       ],
       "shape": {
        "columns": 10,
        "rows": 10
       }
      },
      "text/html": [
       "<div>\n",
       "<style scoped>\n",
       "    .dataframe tbody tr th:only-of-type {\n",
       "        vertical-align: middle;\n",
       "    }\n",
       "\n",
       "    .dataframe tbody tr th {\n",
       "        vertical-align: top;\n",
       "    }\n",
       "\n",
       "    .dataframe thead th {\n",
       "        text-align: right;\n",
       "    }\n",
       "</style>\n",
       "<table border=\"1\" class=\"dataframe\">\n",
       "  <thead>\n",
       "    <tr style=\"text-align: right;\">\n",
       "      <th></th>\n",
       "      <th>Type</th>\n",
       "      <th>Product</th>\n",
       "      <th>Started Date</th>\n",
       "      <th>Completed Date</th>\n",
       "      <th>Description</th>\n",
       "      <th>Amount</th>\n",
       "      <th>Fee</th>\n",
       "      <th>Currency</th>\n",
       "      <th>State</th>\n",
       "      <th>Balance</th>\n",
       "    </tr>\n",
       "  </thead>\n",
       "  <tbody>\n",
       "    <tr>\n",
       "      <th>0</th>\n",
       "      <td>CARD_PAYMENT</td>\n",
       "      <td>Current</td>\n",
       "      <td>2025-05-31 14:43:41</td>\n",
       "      <td>2025-06-01 05:04:38</td>\n",
       "      <td>Cinema City</td>\n",
       "      <td>-29.00</td>\n",
       "      <td>0.0</td>\n",
       "      <td>RON</td>\n",
       "      <td>COMPLETED</td>\n",
       "      <td>2163.36</td>\n",
       "    </tr>\n",
       "    <tr>\n",
       "      <th>1</th>\n",
       "      <td>CARD_PAYMENT</td>\n",
       "      <td>Current</td>\n",
       "      <td>2025-05-31 13:06:08</td>\n",
       "      <td>2025-06-01 07:27:47</td>\n",
       "      <td>Mega Image</td>\n",
       "      <td>-7.78</td>\n",
       "      <td>0.0</td>\n",
       "      <td>RON</td>\n",
       "      <td>COMPLETED</td>\n",
       "      <td>2155.58</td>\n",
       "    </tr>\n",
       "    <tr>\n",
       "      <th>2</th>\n",
       "      <td>CARD_PAYMENT</td>\n",
       "      <td>Current</td>\n",
       "      <td>2025-05-31 18:06:35</td>\n",
       "      <td>2025-06-01 07:27:50</td>\n",
       "      <td>Mega Image</td>\n",
       "      <td>-19.96</td>\n",
       "      <td>0.0</td>\n",
       "      <td>RON</td>\n",
       "      <td>COMPLETED</td>\n",
       "      <td>2135.62</td>\n",
       "    </tr>\n",
       "    <tr>\n",
       "      <th>3</th>\n",
       "      <td>CARD_PAYMENT</td>\n",
       "      <td>Current</td>\n",
       "      <td>2025-05-31 18:49:10</td>\n",
       "      <td>2025-06-01 07:27:52</td>\n",
       "      <td>Mega Image</td>\n",
       "      <td>-32.98</td>\n",
       "      <td>0.0</td>\n",
       "      <td>RON</td>\n",
       "      <td>COMPLETED</td>\n",
       "      <td>2102.64</td>\n",
       "    </tr>\n",
       "    <tr>\n",
       "      <th>4</th>\n",
       "      <td>CARD_PAYMENT</td>\n",
       "      <td>Current</td>\n",
       "      <td>2025-05-31 11:44:39</td>\n",
       "      <td>2025-06-01 14:30:08</td>\n",
       "      <td>Cinema City</td>\n",
       "      <td>-33.00</td>\n",
       "      <td>0.0</td>\n",
       "      <td>RON</td>\n",
       "      <td>COMPLETED</td>\n",
       "      <td>2069.64</td>\n",
       "    </tr>\n",
       "    <tr>\n",
       "      <th>5</th>\n",
       "      <td>CARD_PAYMENT</td>\n",
       "      <td>Current</td>\n",
       "      <td>2025-06-01 12:38:58</td>\n",
       "      <td>2025-06-02 05:35:16</td>\n",
       "      <td>STB Bucuresti</td>\n",
       "      <td>-6.00</td>\n",
       "      <td>0.0</td>\n",
       "      <td>RON</td>\n",
       "      <td>COMPLETED</td>\n",
       "      <td>2063.64</td>\n",
       "    </tr>\n",
       "    <tr>\n",
       "      <th>6</th>\n",
       "      <td>CARD_PAYMENT</td>\n",
       "      <td>Current</td>\n",
       "      <td>2025-06-01 14:38:56</td>\n",
       "      <td>2025-06-02 05:35:17</td>\n",
       "      <td>STB Bucuresti</td>\n",
       "      <td>-6.00</td>\n",
       "      <td>0.0</td>\n",
       "      <td>RON</td>\n",
       "      <td>COMPLETED</td>\n",
       "      <td>2057.64</td>\n",
       "    </tr>\n",
       "    <tr>\n",
       "      <th>7</th>\n",
       "      <td>CARD_PAYMENT</td>\n",
       "      <td>Current</td>\n",
       "      <td>2025-06-01 13:46:38</td>\n",
       "      <td>2025-06-02 07:35:29</td>\n",
       "      <td>Roxel Cart</td>\n",
       "      <td>-17.00</td>\n",
       "      <td>0.0</td>\n",
       "      <td>RON</td>\n",
       "      <td>COMPLETED</td>\n",
       "      <td>2040.64</td>\n",
       "    </tr>\n",
       "    <tr>\n",
       "      <th>8</th>\n",
       "      <td>TRANSFER</td>\n",
       "      <td>Current</td>\n",
       "      <td>2025-06-02 18:50:04</td>\n",
       "      <td>2025-06-02 18:50:04</td>\n",
       "      <td>Transfer from Revolut user</td>\n",
       "      <td>5.00</td>\n",
       "      <td>0.0</td>\n",
       "      <td>RON</td>\n",
       "      <td>COMPLETED</td>\n",
       "      <td>2045.64</td>\n",
       "    </tr>\n",
       "    <tr>\n",
       "      <th>9</th>\n",
       "      <td>TRANSFER</td>\n",
       "      <td>Current</td>\n",
       "      <td>2025-06-02 18:50:35</td>\n",
       "      <td>2025-06-02 18:50:36</td>\n",
       "      <td>Transfer to Revolut user</td>\n",
       "      <td>-5.00</td>\n",
       "      <td>0.0</td>\n",
       "      <td>RON</td>\n",
       "      <td>COMPLETED</td>\n",
       "      <td>2040.64</td>\n",
       "    </tr>\n",
       "  </tbody>\n",
       "</table>\n",
       "</div>"
      ],
      "text/plain": [
       "           Type  Product         Started Date       Completed Date  \\\n",
       "0  CARD_PAYMENT  Current  2025-05-31 14:43:41  2025-06-01 05:04:38   \n",
       "1  CARD_PAYMENT  Current  2025-05-31 13:06:08  2025-06-01 07:27:47   \n",
       "2  CARD_PAYMENT  Current  2025-05-31 18:06:35  2025-06-01 07:27:50   \n",
       "3  CARD_PAYMENT  Current  2025-05-31 18:49:10  2025-06-01 07:27:52   \n",
       "4  CARD_PAYMENT  Current  2025-05-31 11:44:39  2025-06-01 14:30:08   \n",
       "5  CARD_PAYMENT  Current  2025-06-01 12:38:58  2025-06-02 05:35:16   \n",
       "6  CARD_PAYMENT  Current  2025-06-01 14:38:56  2025-06-02 05:35:17   \n",
       "7  CARD_PAYMENT  Current  2025-06-01 13:46:38  2025-06-02 07:35:29   \n",
       "8      TRANSFER  Current  2025-06-02 18:50:04  2025-06-02 18:50:04   \n",
       "9      TRANSFER  Current  2025-06-02 18:50:35  2025-06-02 18:50:36   \n",
       "\n",
       "                  Description  Amount  Fee Currency      State  Balance  \n",
       "0                 Cinema City  -29.00  0.0      RON  COMPLETED  2163.36  \n",
       "1                  Mega Image   -7.78  0.0      RON  COMPLETED  2155.58  \n",
       "2                  Mega Image  -19.96  0.0      RON  COMPLETED  2135.62  \n",
       "3                  Mega Image  -32.98  0.0      RON  COMPLETED  2102.64  \n",
       "4                 Cinema City  -33.00  0.0      RON  COMPLETED  2069.64  \n",
       "5               STB Bucuresti   -6.00  0.0      RON  COMPLETED  2063.64  \n",
       "6               STB Bucuresti   -6.00  0.0      RON  COMPLETED  2057.64  \n",
       "7                  Roxel Cart  -17.00  0.0      RON  COMPLETED  2040.64  \n",
       "8  Transfer from Revolut user    5.00  0.0      RON  COMPLETED  2045.64  \n",
       "9    Transfer to Revolut user   -5.00  0.0      RON  COMPLETED  2040.64  "
      ]
     },
     "execution_count": 3,
     "metadata": {},
     "output_type": "execute_result"
    }
   ],
   "source": [
    "data.head(10)"
   ]
  },
  {
   "cell_type": "markdown",
   "id": "bad701e3",
   "metadata": {},
   "source": [
    "Show the last 10 payments"
   ]
  },
  {
   "cell_type": "code",
   "execution_count": 4,
   "id": "dac99e17",
   "metadata": {},
   "outputs": [
    {
     "data": {
      "application/vnd.microsoft.datawrangler.viewer.v0+json": {
       "columns": [
        {
         "name": "index",
         "rawType": "int64",
         "type": "integer"
        },
        {
         "name": "Type",
         "rawType": "object",
         "type": "string"
        },
        {
         "name": "Product",
         "rawType": "object",
         "type": "string"
        },
        {
         "name": "Started Date",
         "rawType": "object",
         "type": "string"
        },
        {
         "name": "Completed Date",
         "rawType": "object",
         "type": "unknown"
        },
        {
         "name": "Description",
         "rawType": "object",
         "type": "string"
        },
        {
         "name": "Amount",
         "rawType": "float64",
         "type": "float"
        },
        {
         "name": "Fee",
         "rawType": "float64",
         "type": "float"
        },
        {
         "name": "Currency",
         "rawType": "object",
         "type": "string"
        },
        {
         "name": "State",
         "rawType": "object",
         "type": "string"
        },
        {
         "name": "Balance",
         "rawType": "float64",
         "type": "float"
        }
       ],
       "ref": "82eb6c9c-04bf-450e-acf1-cbfcfede819d",
       "rows": [
        [
         "72",
         "CARD_PAYMENT",
         "Current",
         "2025-06-13 17:36:41",
         null,
         "Farmacia",
         "-19.5",
         "0.0",
         "RON",
         "PENDING",
         null
        ],
        [
         "73",
         "CARD_PAYMENT",
         "Current",
         "2025-06-12 11:19:50",
         "2025-06-13 21:18:54",
         "Auchan",
         "-7.1",
         "0.0",
         "RON",
         "COMPLETED",
         "1106.53"
        ],
        [
         "74",
         "CARD_PAYMENT",
         "Current",
         "2025-06-12 10:50:42",
         "2025-06-13 21:18:55",
         "Auchan",
         "-21.97",
         "0.0",
         "RON",
         "COMPLETED",
         "1084.56"
        ],
        [
         "75",
         "CARD_PAYMENT",
         "Current",
         "2025-06-13 17:32:33",
         "2025-06-14 07:35:43",
         "Pizza Luca",
         "-5.99",
         "0.0",
         "RON",
         "COMPLETED",
         "1078.57"
        ],
        [
         "76",
         "CARD_PAYMENT",
         "Current",
         "2025-06-13 15:59:52",
         "2025-06-14 07:35:47",
         "Pizza Luca",
         "-5.99",
         "0.0",
         "RON",
         "COMPLETED",
         "1072.58"
        ],
        [
         "77",
         "CARD_PAYMENT",
         "Current",
         "2025-06-13 16:01:09",
         "2025-06-14 07:36:05",
         "Ted's Coffee Co.",
         "-16.0",
         "0.0",
         "RON",
         "COMPLETED",
         "1056.58"
        ],
        [
         "78",
         "CARD_PAYMENT",
         "Current",
         "2025-06-13 12:08:43",
         "2025-06-14 07:36:06",
         "Ted's Coffee Co.",
         "-19.0",
         "0.0",
         "RON",
         "COMPLETED",
         "1037.58"
        ],
        [
         "79",
         "CARD_REFUND",
         "Current",
         "2025-06-13 13:31:00",
         "2025-06-15 05:19:55",
         "eMAG",
         "43.55",
         "0.0",
         "RON",
         "COMPLETED",
         "1081.13"
        ],
        [
         "80",
         "CARD_PAYMENT",
         "Current",
         "2025-06-16 10:38:23",
         null,
         "Pizza Luca",
         "-5.99",
         "0.0",
         "RON",
         "PENDING",
         null
        ],
        [
         "81",
         "CARD_PAYMENT",
         "Current",
         "2025-06-16 10:40:57",
         null,
         "Ted's Coffee Co.",
         "-19.0",
         "0.0",
         "RON",
         "PENDING",
         null
        ]
       ],
       "shape": {
        "columns": 10,
        "rows": 10
       }
      },
      "text/html": [
       "<div>\n",
       "<style scoped>\n",
       "    .dataframe tbody tr th:only-of-type {\n",
       "        vertical-align: middle;\n",
       "    }\n",
       "\n",
       "    .dataframe tbody tr th {\n",
       "        vertical-align: top;\n",
       "    }\n",
       "\n",
       "    .dataframe thead th {\n",
       "        text-align: right;\n",
       "    }\n",
       "</style>\n",
       "<table border=\"1\" class=\"dataframe\">\n",
       "  <thead>\n",
       "    <tr style=\"text-align: right;\">\n",
       "      <th></th>\n",
       "      <th>Type</th>\n",
       "      <th>Product</th>\n",
       "      <th>Started Date</th>\n",
       "      <th>Completed Date</th>\n",
       "      <th>Description</th>\n",
       "      <th>Amount</th>\n",
       "      <th>Fee</th>\n",
       "      <th>Currency</th>\n",
       "      <th>State</th>\n",
       "      <th>Balance</th>\n",
       "    </tr>\n",
       "  </thead>\n",
       "  <tbody>\n",
       "    <tr>\n",
       "      <th>72</th>\n",
       "      <td>CARD_PAYMENT</td>\n",
       "      <td>Current</td>\n",
       "      <td>2025-06-13 17:36:41</td>\n",
       "      <td>NaN</td>\n",
       "      <td>Farmacia</td>\n",
       "      <td>-19.50</td>\n",
       "      <td>0.0</td>\n",
       "      <td>RON</td>\n",
       "      <td>PENDING</td>\n",
       "      <td>NaN</td>\n",
       "    </tr>\n",
       "    <tr>\n",
       "      <th>73</th>\n",
       "      <td>CARD_PAYMENT</td>\n",
       "      <td>Current</td>\n",
       "      <td>2025-06-12 11:19:50</td>\n",
       "      <td>2025-06-13 21:18:54</td>\n",
       "      <td>Auchan</td>\n",
       "      <td>-7.10</td>\n",
       "      <td>0.0</td>\n",
       "      <td>RON</td>\n",
       "      <td>COMPLETED</td>\n",
       "      <td>1106.53</td>\n",
       "    </tr>\n",
       "    <tr>\n",
       "      <th>74</th>\n",
       "      <td>CARD_PAYMENT</td>\n",
       "      <td>Current</td>\n",
       "      <td>2025-06-12 10:50:42</td>\n",
       "      <td>2025-06-13 21:18:55</td>\n",
       "      <td>Auchan</td>\n",
       "      <td>-21.97</td>\n",
       "      <td>0.0</td>\n",
       "      <td>RON</td>\n",
       "      <td>COMPLETED</td>\n",
       "      <td>1084.56</td>\n",
       "    </tr>\n",
       "    <tr>\n",
       "      <th>75</th>\n",
       "      <td>CARD_PAYMENT</td>\n",
       "      <td>Current</td>\n",
       "      <td>2025-06-13 17:32:33</td>\n",
       "      <td>2025-06-14 07:35:43</td>\n",
       "      <td>Pizza Luca</td>\n",
       "      <td>-5.99</td>\n",
       "      <td>0.0</td>\n",
       "      <td>RON</td>\n",
       "      <td>COMPLETED</td>\n",
       "      <td>1078.57</td>\n",
       "    </tr>\n",
       "    <tr>\n",
       "      <th>76</th>\n",
       "      <td>CARD_PAYMENT</td>\n",
       "      <td>Current</td>\n",
       "      <td>2025-06-13 15:59:52</td>\n",
       "      <td>2025-06-14 07:35:47</td>\n",
       "      <td>Pizza Luca</td>\n",
       "      <td>-5.99</td>\n",
       "      <td>0.0</td>\n",
       "      <td>RON</td>\n",
       "      <td>COMPLETED</td>\n",
       "      <td>1072.58</td>\n",
       "    </tr>\n",
       "    <tr>\n",
       "      <th>77</th>\n",
       "      <td>CARD_PAYMENT</td>\n",
       "      <td>Current</td>\n",
       "      <td>2025-06-13 16:01:09</td>\n",
       "      <td>2025-06-14 07:36:05</td>\n",
       "      <td>Ted's Coffee Co.</td>\n",
       "      <td>-16.00</td>\n",
       "      <td>0.0</td>\n",
       "      <td>RON</td>\n",
       "      <td>COMPLETED</td>\n",
       "      <td>1056.58</td>\n",
       "    </tr>\n",
       "    <tr>\n",
       "      <th>78</th>\n",
       "      <td>CARD_PAYMENT</td>\n",
       "      <td>Current</td>\n",
       "      <td>2025-06-13 12:08:43</td>\n",
       "      <td>2025-06-14 07:36:06</td>\n",
       "      <td>Ted's Coffee Co.</td>\n",
       "      <td>-19.00</td>\n",
       "      <td>0.0</td>\n",
       "      <td>RON</td>\n",
       "      <td>COMPLETED</td>\n",
       "      <td>1037.58</td>\n",
       "    </tr>\n",
       "    <tr>\n",
       "      <th>79</th>\n",
       "      <td>CARD_REFUND</td>\n",
       "      <td>Current</td>\n",
       "      <td>2025-06-13 13:31:00</td>\n",
       "      <td>2025-06-15 05:19:55</td>\n",
       "      <td>eMAG</td>\n",
       "      <td>43.55</td>\n",
       "      <td>0.0</td>\n",
       "      <td>RON</td>\n",
       "      <td>COMPLETED</td>\n",
       "      <td>1081.13</td>\n",
       "    </tr>\n",
       "    <tr>\n",
       "      <th>80</th>\n",
       "      <td>CARD_PAYMENT</td>\n",
       "      <td>Current</td>\n",
       "      <td>2025-06-16 10:38:23</td>\n",
       "      <td>NaN</td>\n",
       "      <td>Pizza Luca</td>\n",
       "      <td>-5.99</td>\n",
       "      <td>0.0</td>\n",
       "      <td>RON</td>\n",
       "      <td>PENDING</td>\n",
       "      <td>NaN</td>\n",
       "    </tr>\n",
       "    <tr>\n",
       "      <th>81</th>\n",
       "      <td>CARD_PAYMENT</td>\n",
       "      <td>Current</td>\n",
       "      <td>2025-06-16 10:40:57</td>\n",
       "      <td>NaN</td>\n",
       "      <td>Ted's Coffee Co.</td>\n",
       "      <td>-19.00</td>\n",
       "      <td>0.0</td>\n",
       "      <td>RON</td>\n",
       "      <td>PENDING</td>\n",
       "      <td>NaN</td>\n",
       "    </tr>\n",
       "  </tbody>\n",
       "</table>\n",
       "</div>"
      ],
      "text/plain": [
       "            Type  Product         Started Date       Completed Date  \\\n",
       "72  CARD_PAYMENT  Current  2025-06-13 17:36:41                  NaN   \n",
       "73  CARD_PAYMENT  Current  2025-06-12 11:19:50  2025-06-13 21:18:54   \n",
       "74  CARD_PAYMENT  Current  2025-06-12 10:50:42  2025-06-13 21:18:55   \n",
       "75  CARD_PAYMENT  Current  2025-06-13 17:32:33  2025-06-14 07:35:43   \n",
       "76  CARD_PAYMENT  Current  2025-06-13 15:59:52  2025-06-14 07:35:47   \n",
       "77  CARD_PAYMENT  Current  2025-06-13 16:01:09  2025-06-14 07:36:05   \n",
       "78  CARD_PAYMENT  Current  2025-06-13 12:08:43  2025-06-14 07:36:06   \n",
       "79   CARD_REFUND  Current  2025-06-13 13:31:00  2025-06-15 05:19:55   \n",
       "80  CARD_PAYMENT  Current  2025-06-16 10:38:23                  NaN   \n",
       "81  CARD_PAYMENT  Current  2025-06-16 10:40:57                  NaN   \n",
       "\n",
       "         Description  Amount  Fee Currency      State  Balance  \n",
       "72          Farmacia  -19.50  0.0      RON    PENDING      NaN  \n",
       "73            Auchan   -7.10  0.0      RON  COMPLETED  1106.53  \n",
       "74            Auchan  -21.97  0.0      RON  COMPLETED  1084.56  \n",
       "75        Pizza Luca   -5.99  0.0      RON  COMPLETED  1078.57  \n",
       "76        Pizza Luca   -5.99  0.0      RON  COMPLETED  1072.58  \n",
       "77  Ted's Coffee Co.  -16.00  0.0      RON  COMPLETED  1056.58  \n",
       "78  Ted's Coffee Co.  -19.00  0.0      RON  COMPLETED  1037.58  \n",
       "79              eMAG   43.55  0.0      RON  COMPLETED  1081.13  \n",
       "80        Pizza Luca   -5.99  0.0      RON    PENDING      NaN  \n",
       "81  Ted's Coffee Co.  -19.00  0.0      RON    PENDING      NaN  "
      ]
     },
     "execution_count": 4,
     "metadata": {},
     "output_type": "execute_result"
    }
   ],
   "source": [
    "data.tail(10)"
   ]
  },
  {
   "cell_type": "markdown",
   "id": "d8410829",
   "metadata": {},
   "source": [
    "Get the informations about the data "
   ]
  },
  {
   "cell_type": "code",
   "execution_count": 5,
   "id": "61bc0117",
   "metadata": {},
   "outputs": [
    {
     "name": "stdout",
     "output_type": "stream",
     "text": [
      "<class 'pandas.core.frame.DataFrame'>\n",
      "RangeIndex: 82 entries, 0 to 81\n",
      "Data columns (total 10 columns):\n",
      " #   Column          Non-Null Count  Dtype  \n",
      "---  ------          --------------  -----  \n",
      " 0   Type            82 non-null     object \n",
      " 1   Product         82 non-null     object \n",
      " 2   Started Date    82 non-null     object \n",
      " 3   Completed Date  78 non-null     object \n",
      " 4   Description     82 non-null     object \n",
      " 5   Amount          82 non-null     float64\n",
      " 6   Fee             82 non-null     float64\n",
      " 7   Currency        82 non-null     object \n",
      " 8   State           82 non-null     object \n",
      " 9   Balance         78 non-null     float64\n",
      "dtypes: float64(3), object(7)\n",
      "memory usage: 6.5+ KB\n"
     ]
    }
   ],
   "source": [
    "data.info()"
   ]
  },
  {
   "cell_type": "markdown",
   "id": "a6a61320",
   "metadata": {},
   "source": [
    "Check for any missing data"
   ]
  },
  {
   "cell_type": "code",
   "execution_count": 7,
   "id": "cc5c6067",
   "metadata": {},
   "outputs": [],
   "source": [
    "missing_data = data.isnull().sum()"
   ]
  },
  {
   "cell_type": "markdown",
   "id": "6f76cc01",
   "metadata": {},
   "source": [
    "We can see that i have 4 missing data in \"Completed Data\" and 4 in \"Balance\""
   ]
  },
  {
   "cell_type": "code",
   "execution_count": 8,
   "id": "cf74e109",
   "metadata": {},
   "outputs": [
    {
     "data": {
      "application/vnd.microsoft.datawrangler.viewer.v0+json": {
       "columns": [
        {
         "name": "index",
         "rawType": "object",
         "type": "string"
        },
        {
         "name": "0",
         "rawType": "int64",
         "type": "integer"
        }
       ],
       "ref": "71b76517-29a4-41dd-b372-8600a8311beb",
       "rows": [
        [
         "Type",
         "0"
        ],
        [
         "Product",
         "0"
        ],
        [
         "Started Date",
         "0"
        ],
        [
         "Completed Date",
         "4"
        ],
        [
         "Description",
         "0"
        ],
        [
         "Amount",
         "0"
        ],
        [
         "Fee",
         "0"
        ],
        [
         "Currency",
         "0"
        ],
        [
         "State",
         "0"
        ],
        [
         "Balance",
         "4"
        ]
       ],
       "shape": {
        "columns": 1,
        "rows": 10
       }
      },
      "text/plain": [
       "Type              0\n",
       "Product           0\n",
       "Started Date      0\n",
       "Completed Date    4\n",
       "Description       0\n",
       "Amount            0\n",
       "Fee               0\n",
       "Currency          0\n",
       "State             0\n",
       "Balance           4\n",
       "dtype: int64"
      ]
     },
     "execution_count": 8,
     "metadata": {},
     "output_type": "execute_result"
    }
   ],
   "source": [
    "missing_data"
   ]
  },
  {
   "cell_type": "markdown",
   "id": "10858eb0",
   "metadata": {},
   "source": [
    "We can remove the columns with missing data"
   ]
  },
  {
   "cell_type": "code",
   "execution_count": 10,
   "id": "9ee90d64",
   "metadata": {},
   "outputs": [],
   "source": [
    "data.dropna(axis=1, inplace=True)"
   ]
  },
  {
   "cell_type": "markdown",
   "id": "e0ea137c",
   "metadata": {},
   "source": [
    "We check if there are still any missing values"
   ]
  },
  {
   "cell_type": "code",
   "execution_count": 15,
   "id": "fb2db5f3",
   "metadata": {},
   "outputs": [],
   "source": [
    "missing_data_check = data.isnull().sum()"
   ]
  },
  {
   "cell_type": "markdown",
   "id": "07e884e6",
   "metadata": {},
   "source": [
    "We can see that we no longer have missing data"
   ]
  },
  {
   "cell_type": "code",
   "execution_count": 16,
   "id": "22459fda",
   "metadata": {},
   "outputs": [
    {
     "data": {
      "application/vnd.microsoft.datawrangler.viewer.v0+json": {
       "columns": [
        {
         "name": "index",
         "rawType": "object",
         "type": "string"
        },
        {
         "name": "0",
         "rawType": "int64",
         "type": "integer"
        }
       ],
       "ref": "93fd8a57-f3c3-4746-9341-73d3901b9bab",
       "rows": [
        [
         "Type",
         "0"
        ],
        [
         "Product",
         "0"
        ],
        [
         "Started Date",
         "0"
        ],
        [
         "Description",
         "0"
        ],
        [
         "Amount",
         "0"
        ],
        [
         "Fee",
         "0"
        ],
        [
         "Currency",
         "0"
        ],
        [
         "State",
         "0"
        ]
       ],
       "shape": {
        "columns": 1,
        "rows": 8
       }
      },
      "text/plain": [
       "Type            0\n",
       "Product         0\n",
       "Started Date    0\n",
       "Description     0\n",
       "Amount          0\n",
       "Fee             0\n",
       "Currency        0\n",
       "State           0\n",
       "dtype: int64"
      ]
     },
     "execution_count": 16,
     "metadata": {},
     "output_type": "execute_result"
    }
   ],
   "source": [
    "missing_data_check"
   ]
  },
  {
   "cell_type": "markdown",
   "id": "c53787b5",
   "metadata": {},
   "source": [
    "We can create a new data frame with the columns we are interested in:"
   ]
  },
  {
   "cell_type": "markdown",
   "id": "dcb0a6d6",
   "metadata": {},
   "source": [
    "First we need to know the names of the columns"
   ]
  },
  {
   "cell_type": "code",
   "execution_count": 17,
   "id": "bfdc5d27",
   "metadata": {},
   "outputs": [],
   "source": [
    "columns_list = data.columns.tolist()"
   ]
  },
  {
   "cell_type": "code",
   "execution_count": 18,
   "id": "5f25e02c",
   "metadata": {},
   "outputs": [
    {
     "data": {
      "text/plain": [
       "['Type',\n",
       " 'Product',\n",
       " 'Started Date',\n",
       " 'Description',\n",
       " 'Amount',\n",
       " 'Fee',\n",
       " 'Currency',\n",
       " 'State']"
      ]
     },
     "execution_count": 18,
     "metadata": {},
     "output_type": "execute_result"
    }
   ],
   "source": [
    "columns_list"
   ]
  },
  {
   "cell_type": "markdown",
   "id": "5d975a74",
   "metadata": {},
   "source": [
    "Now we can select the columns we need"
   ]
  },
  {
   "cell_type": "code",
   "execution_count": 19,
   "id": "846598f0",
   "metadata": {},
   "outputs": [],
   "source": [
    "selected_columns = ['Amount', 'Description']"
   ]
  },
  {
   "cell_type": "code",
   "execution_count": 20,
   "id": "5c64d151",
   "metadata": {},
   "outputs": [],
   "source": [
    "selected_data = data[selected_columns]"
   ]
  },
  {
   "cell_type": "code",
   "execution_count": 21,
   "id": "118b1ecd",
   "metadata": {},
   "outputs": [
    {
     "data": {
      "application/vnd.microsoft.datawrangler.viewer.v0+json": {
       "columns": [
        {
         "name": "index",
         "rawType": "int64",
         "type": "integer"
        },
        {
         "name": "Amount",
         "rawType": "float64",
         "type": "float"
        },
        {
         "name": "Description",
         "rawType": "object",
         "type": "string"
        }
       ],
       "ref": "c7e559cd-2398-4f16-9062-48e9a316b59e",
       "rows": [
        [
         "0",
         "-29.0",
         "Cinema City"
        ],
        [
         "1",
         "-7.78",
         "Mega Image"
        ],
        [
         "2",
         "-19.96",
         "Mega Image"
        ],
        [
         "3",
         "-32.98",
         "Mega Image"
        ],
        [
         "4",
         "-33.0",
         "Cinema City"
        ],
        [
         "5",
         "-6.0",
         "STB Bucuresti"
        ],
        [
         "6",
         "-6.0",
         "STB Bucuresti"
        ],
        [
         "7",
         "-17.0",
         "Roxel Cart"
        ],
        [
         "8",
         "5.0",
         "Transfer from Revolut user"
        ],
        [
         "9",
         "-5.0",
         "Transfer to Revolut user"
        ]
       ],
       "shape": {
        "columns": 2,
        "rows": 10
       }
      },
      "text/html": [
       "<div>\n",
       "<style scoped>\n",
       "    .dataframe tbody tr th:only-of-type {\n",
       "        vertical-align: middle;\n",
       "    }\n",
       "\n",
       "    .dataframe tbody tr th {\n",
       "        vertical-align: top;\n",
       "    }\n",
       "\n",
       "    .dataframe thead th {\n",
       "        text-align: right;\n",
       "    }\n",
       "</style>\n",
       "<table border=\"1\" class=\"dataframe\">\n",
       "  <thead>\n",
       "    <tr style=\"text-align: right;\">\n",
       "      <th></th>\n",
       "      <th>Amount</th>\n",
       "      <th>Description</th>\n",
       "    </tr>\n",
       "  </thead>\n",
       "  <tbody>\n",
       "    <tr>\n",
       "      <th>0</th>\n",
       "      <td>-29.00</td>\n",
       "      <td>Cinema City</td>\n",
       "    </tr>\n",
       "    <tr>\n",
       "      <th>1</th>\n",
       "      <td>-7.78</td>\n",
       "      <td>Mega Image</td>\n",
       "    </tr>\n",
       "    <tr>\n",
       "      <th>2</th>\n",
       "      <td>-19.96</td>\n",
       "      <td>Mega Image</td>\n",
       "    </tr>\n",
       "    <tr>\n",
       "      <th>3</th>\n",
       "      <td>-32.98</td>\n",
       "      <td>Mega Image</td>\n",
       "    </tr>\n",
       "    <tr>\n",
       "      <th>4</th>\n",
       "      <td>-33.00</td>\n",
       "      <td>Cinema City</td>\n",
       "    </tr>\n",
       "    <tr>\n",
       "      <th>5</th>\n",
       "      <td>-6.00</td>\n",
       "      <td>STB Bucuresti</td>\n",
       "    </tr>\n",
       "    <tr>\n",
       "      <th>6</th>\n",
       "      <td>-6.00</td>\n",
       "      <td>STB Bucuresti</td>\n",
       "    </tr>\n",
       "    <tr>\n",
       "      <th>7</th>\n",
       "      <td>-17.00</td>\n",
       "      <td>Roxel Cart</td>\n",
       "    </tr>\n",
       "    <tr>\n",
       "      <th>8</th>\n",
       "      <td>5.00</td>\n",
       "      <td>Transfer from Revolut user</td>\n",
       "    </tr>\n",
       "    <tr>\n",
       "      <th>9</th>\n",
       "      <td>-5.00</td>\n",
       "      <td>Transfer to Revolut user</td>\n",
       "    </tr>\n",
       "  </tbody>\n",
       "</table>\n",
       "</div>"
      ],
      "text/plain": [
       "   Amount                 Description\n",
       "0  -29.00                 Cinema City\n",
       "1   -7.78                  Mega Image\n",
       "2  -19.96                  Mega Image\n",
       "3  -32.98                  Mega Image\n",
       "4  -33.00                 Cinema City\n",
       "5   -6.00               STB Bucuresti\n",
       "6   -6.00               STB Bucuresti\n",
       "7  -17.00                  Roxel Cart\n",
       "8    5.00  Transfer from Revolut user\n",
       "9   -5.00    Transfer to Revolut user"
      ]
     },
     "execution_count": 21,
     "metadata": {},
     "output_type": "execute_result"
    }
   ],
   "source": [
    "selected_data.head(10)"
   ]
  },
  {
   "cell_type": "markdown",
   "id": "349ffcd7",
   "metadata": {},
   "source": [
    "I wanna see how much i spent on each store"
   ]
  },
  {
   "cell_type": "code",
   "execution_count": 31,
   "id": "62421b4b",
   "metadata": {},
   "outputs": [
    {
     "data": {
      "image/png": "[encoded data removed]",
      "text/plain": [
       "<Figure size 1000x600 with 1 Axes>"
      ]
     },
     "metadata": {},
     "output_type": "display_data"
    }
   ],
   "source": [
    "expenses = selected_data[selected_data['Amount'] < 0]\n",
    "store_spending = expenses.groupby('Description')['Amount'].sum().sort_values()\n",
    "\n",
    "plt.figure(figsize=(10, 6))\n",
    "store_spending.plot(kind=\"barh\")\n",
    "plt.title(\"Total spending per Store\")\n",
    "plt.xlabel(\"Amount Spent (RON)\")\n",
    "plt.tight_layout()\n",
    "\n",
    "plt.savefig('total_spending_per_store.png', dpi=300)"
   ]
  },
  {
   "cell_type": "markdown",
   "id": "f5a42ef0",
   "metadata": {},
   "source": [
    "We can see that i spent the most amount money on eMAG and the less amount of money on Gmn Birotica. "
   ]
  },
  {
   "cell_type": "markdown",
   "id": "91a09edd",
   "metadata": {},
   "source": [
    "The average amount spent based on store"
   ]
  },
  {
   "cell_type": "code",
   "execution_count": 27,
   "id": "cf5189f7",
   "metadata": {},
   "outputs": [],
   "source": [
    "avg_spending = expenses.groupby(\"Description\")[\"Amount\"].mean().sort_values()"
   ]
  },
  {
   "cell_type": "code",
   "execution_count": 28,
   "id": "c9d77eda",
   "metadata": {},
   "outputs": [
    {
     "data": {
      "application/vnd.microsoft.datawrangler.viewer.v0+json": {
       "columns": [
        {
         "name": "Description",
         "rawType": "object",
         "type": "string"
        },
        {
         "name": "Amount",
         "rawType": "float64",
         "type": "float"
        }
       ],
       "ref": "2792547b-8f3d-431d-ad86-fc63a78bf941",
       "rows": [
        [
         "Cursor",
         "-88.71"
        ],
        [
         "eMAG",
         "-67.526"
        ],
        [
         "EdenBoutique",
         "-47.0"
        ],
        [
         "dm drogerie",
         "-39.18333333333334"
        ],
        [
         "Bolt",
         "-36.19"
        ],
        [
         "Cinema City",
         "-31.0"
        ],
        [
         "McDonald's",
         "-31.0"
        ],
        [
         "Vinted",
         "-28.64"
        ],
        [
         "Cărturești",
         "-26.0"
        ],
        [
         "Transfer to Revolut user",
         "-25.0"
        ],
        [
         "Gloria Jean's Coffees",
         "-22.5"
        ],
        [
         "Fryday Sun Plaza",
         "-22.49"
        ],
        [
         "Farmacia",
         "-19.5"
        ],
        [
         "Manufaktura The Coffee Shop Restaurant",
         "-19.0"
        ],
        [
         "Starbucks",
         "-18.4"
        ],
        [
         "YouTube",
         "-18.0"
        ],
        [
         "Mega Image",
         "-17.69875"
        ],
        [
         "Roxel Cart",
         "-17.0"
        ],
        [
         "Ted's Coffee Co.",
         "-16.35571428571429"
        ],
        [
         "Auchan",
         "-14.874"
        ],
        [
         "Spotify",
         "-13.0"
        ],
        [
         "Burger King",
         "-11.9"
        ],
        [
         "Google One",
         "-9.99"
        ],
        [
         "Bruno simbol",
         "-7.0"
        ],
        [
         "Patiseria Tineretului",
         "-7.0"
        ],
        [
         "Pizza Luca",
         "-6.277142857142857"
        ],
        [
         "Zuzu Trading",
         "-5.78"
        ],
        [
         "PEPCO",
         "-4.0"
        ],
        [
         "STB Bucuresti",
         "-3.857142857142857"
        ],
        [
         "Gmn Birotica",
         "-3.5"
        ]
       ],
       "shape": {
        "columns": 1,
        "rows": 30
       }
      },
      "text/plain": [
       "Description\n",
       "Cursor                                   -88.710000\n",
       "eMAG                                     -67.526000\n",
       "EdenBoutique                             -47.000000\n",
       "dm drogerie                              -39.183333\n",
       "Bolt                                     -36.190000\n",
       "Cinema City                              -31.000000\n",
       "McDonald's                               -31.000000\n",
       "Vinted                                   -28.640000\n",
       "Cărturești                               -26.000000\n",
       "Transfer to Revolut user                 -25.000000\n",
       "Gloria Jean's Coffees                    -22.500000\n",
       "Fryday Sun Plaza                         -22.490000\n",
       "Farmacia                                 -19.500000\n",
       "Manufaktura The Coffee Shop Restaurant   -19.000000\n",
       "Starbucks                                -18.400000\n",
       "YouTube                                  -18.000000\n",
       "Mega Image                               -17.698750\n",
       "Roxel Cart                               -17.000000\n",
       "Ted's Coffee Co.                         -16.355714\n",
       "Auchan                                   -14.874000\n",
       "Spotify                                  -13.000000\n",
       "Burger King                              -11.900000\n",
       "Google One                                -9.990000\n",
       "Bruno simbol                              -7.000000\n",
       "Patiseria Tineretului                     -7.000000\n",
       "Pizza Luca                                -6.277143\n",
       "Zuzu Trading                              -5.780000\n",
       "PEPCO                                     -4.000000\n",
       "STB Bucuresti                             -3.857143\n",
       "Gmn Birotica                              -3.500000\n",
       "Name: Amount, dtype: float64"
      ]
     },
     "execution_count": 28,
     "metadata": {},
     "output_type": "execute_result"
    }
   ],
   "source": [
    "avg_spending"
   ]
  },
  {
   "cell_type": "markdown",
   "id": "2a388eb3",
   "metadata": {},
   "source": [
    "We can see that i spent the most on \"Cursor\" and the less amount of money on \"Transfer to Revolut user\". "
   ]
  },
  {
   "cell_type": "code",
   "execution_count": 32,
   "id": "62f00860",
   "metadata": {},
   "outputs": [
    {
     "data": {
      "image/png": "[encoded data removed]",
      "text/plain": [
       "<Figure size 1000x600 with 1 Axes>"
      ]
     },
     "metadata": {},
     "output_type": "display_data"
    }
   ],
   "source": [
    "plt.figure(figsize=(10, 6))\n",
    "avg_spending.plot(kind=\"barh\")\n",
    "plt.title(\"Total average spending per Store\")\n",
    "plt.xlabel(\"Average Amount Spent (RON)\")\n",
    "plt.tight_layout()\n",
    "\n",
    "plt.savefig('total_avg_spending_per_store.png', dpi=300)"
   ]
  },
  {
   "cell_type": "markdown",
   "id": "1c0a14d2",
   "metadata": {},
   "source": [
    "Let's go back to the initial dataset"
   ]
  },
  {
   "cell_type": "code",
   "execution_count": 33,
   "id": "233f64f4",
   "metadata": {},
   "outputs": [],
   "source": [
    "initial_data = pd.read_csv(\"dataset/rev_spendings_june.csv\")"
   ]
  },
  {
   "cell_type": "code",
   "execution_count": 34,
   "id": "4644d0c1",
   "metadata": {},
   "outputs": [
    {
     "data": {
      "application/vnd.microsoft.datawrangler.viewer.v0+json": {
       "columns": [
        {
         "name": "index",
         "rawType": "int64",
         "type": "integer"
        },
        {
         "name": "Type",
         "rawType": "object",
         "type": "string"
        },
        {
         "name": "Product",
         "rawType": "object",
         "type": "string"
        },
        {
         "name": "Started Date",
         "rawType": "object",
         "type": "string"
        },
        {
         "name": "Completed Date",
         "rawType": "object",
         "type": "string"
        },
        {
         "name": "Description",
         "rawType": "object",
         "type": "string"
        },
        {
         "name": "Amount",
         "rawType": "float64",
         "type": "float"
        },
        {
         "name": "Fee",
         "rawType": "float64",
         "type": "float"
        },
        {
         "name": "Currency",
         "rawType": "object",
         "type": "string"
        },
        {
         "name": "State",
         "rawType": "object",
         "type": "string"
        },
        {
         "name": "Balance",
         "rawType": "float64",
         "type": "float"
        }
       ],
       "ref": "7e8a41cb-6600-4bde-8b3e-fee46cff713a",
       "rows": [
        [
         "0",
         "CARD_PAYMENT",
         "Current",
         "2025-05-31 14:43:41",
         "2025-06-01 05:04:38",
         "Cinema City",
         "-29.0",
         "0.0",
         "RON",
         "COMPLETED",
         "2163.36"
        ],
        [
         "1",
         "CARD_PAYMENT",
         "Current",
         "2025-05-31 13:06:08",
         "2025-06-01 07:27:47",
         "Mega Image",
         "-7.78",
         "0.0",
         "RON",
         "COMPLETED",
         "2155.58"
        ],
        [
         "2",
         "CARD_PAYMENT",
         "Current",
         "2025-05-31 18:06:35",
         "2025-06-01 07:27:50",
         "Mega Image",
         "-19.96",
         "0.0",
         "RON",
         "COMPLETED",
         "2135.62"
        ],
        [
         "3",
         "CARD_PAYMENT",
         "Current",
         "2025-05-31 18:49:10",
         "2025-06-01 07:27:52",
         "Mega Image",
         "-32.98",
         "0.0",
         "RON",
         "COMPLETED",
         "2102.64"
        ],
        [
         "4",
         "CARD_PAYMENT",
         "Current",
         "2025-05-31 11:44:39",
         "2025-06-01 14:30:08",
         "Cinema City",
         "-33.0",
         "0.0",
         "RON",
         "COMPLETED",
         "2069.64"
        ],
        [
         "5",
         "CARD_PAYMENT",
         "Current",
         "2025-06-01 12:38:58",
         "2025-06-02 05:35:16",
         "STB Bucuresti",
         "-6.0",
         "0.0",
         "RON",
         "COMPLETED",
         "2063.64"
        ],
        [
         "6",
         "CARD_PAYMENT",
         "Current",
         "2025-06-01 14:38:56",
         "2025-06-02 05:35:17",
         "STB Bucuresti",
         "-6.0",
         "0.0",
         "RON",
         "COMPLETED",
         "2057.64"
        ],
        [
         "7",
         "CARD_PAYMENT",
         "Current",
         "2025-06-01 13:46:38",
         "2025-06-02 07:35:29",
         "Roxel Cart",
         "-17.0",
         "0.0",
         "RON",
         "COMPLETED",
         "2040.64"
        ],
        [
         "8",
         "TRANSFER",
         "Current",
         "2025-06-02 18:50:04",
         "2025-06-02 18:50:04",
         "Transfer from Revolut user",
         "5.0",
         "0.0",
         "RON",
         "COMPLETED",
         "2045.64"
        ],
        [
         "9",
         "TRANSFER",
         "Current",
         "2025-06-02 18:50:35",
         "2025-06-02 18:50:36",
         "Transfer to Revolut user",
         "-5.0",
         "0.0",
         "RON",
         "COMPLETED",
         "2040.64"
        ]
       ],
       "shape": {
        "columns": 10,
        "rows": 10
       }
      },
      "text/html": [
       "<div>\n",
       "<style scoped>\n",
       "    .dataframe tbody tr th:only-of-type {\n",
       "        vertical-align: middle;\n",
       "    }\n",
       "\n",
       "    .dataframe tbody tr th {\n",
       "        vertical-align: top;\n",
       "    }\n",
       "\n",
       "    .dataframe thead th {\n",
       "        text-align: right;\n",
       "    }\n",
       "</style>\n",
       "<table border=\"1\" class=\"dataframe\">\n",
       "  <thead>\n",
       "    <tr style=\"text-align: right;\">\n",
       "      <th></th>\n",
       "      <th>Type</th>\n",
       "      <th>Product</th>\n",
       "      <th>Started Date</th>\n",
       "      <th>Completed Date</th>\n",
       "      <th>Description</th>\n",
       "      <th>Amount</th>\n",
       "      <th>Fee</th>\n",
       "      <th>Currency</th>\n",
       "      <th>State</th>\n",
       "      <th>Balance</th>\n",
       "    </tr>\n",
       "  </thead>\n",
       "  <tbody>\n",
       "    <tr>\n",
       "      <th>0</th>\n",
       "      <td>CARD_PAYMENT</td>\n",
       "      <td>Current</td>\n",
       "      <td>2025-05-31 14:43:41</td>\n",
       "      <td>2025-06-01 05:04:38</td>\n",
       "      <td>Cinema City</td>\n",
       "      <td>-29.00</td>\n",
       "      <td>0.0</td>\n",
       "      <td>RON</td>\n",
       "      <td>COMPLETED</td>\n",
       "      <td>2163.36</td>\n",
       "    </tr>\n",
       "    <tr>\n",
       "      <th>1</th>\n",
       "      <td>CARD_PAYMENT</td>\n",
       "      <td>Current</td>\n",
       "      <td>2025-05-31 13:06:08</td>\n",
       "      <td>2025-06-01 07:27:47</td>\n",
       "      <td>Mega Image</td>\n",
       "      <td>-7.78</td>\n",
       "      <td>0.0</td>\n",
       "      <td>RON</td>\n",
       "      <td>COMPLETED</td>\n",
       "      <td>2155.58</td>\n",
       "    </tr>\n",
       "    <tr>\n",
       "      <th>2</th>\n",
       "      <td>CARD_PAYMENT</td>\n",
       "      <td>Current</td>\n",
       "      <td>2025-05-31 18:06:35</td>\n",
       "      <td>2025-06-01 07:27:50</td>\n",
       "      <td>Mega Image</td>\n",
       "      <td>-19.96</td>\n",
       "      <td>0.0</td>\n",
       "      <td>RON</td>\n",
       "      <td>COMPLETED</td>\n",
       "      <td>2135.62</td>\n",
       "    </tr>\n",
       "    <tr>\n",
       "      <th>3</th>\n",
       "      <td>CARD_PAYMENT</td>\n",
       "      <td>Current</td>\n",
       "      <td>2025-05-31 18:49:10</td>\n",
       "      <td>2025-06-01 07:27:52</td>\n",
       "      <td>Mega Image</td>\n",
       "      <td>-32.98</td>\n",
       "      <td>0.0</td>\n",
       "      <td>RON</td>\n",
       "      <td>COMPLETED</td>\n",
       "      <td>2102.64</td>\n",
       "    </tr>\n",
       "    <tr>\n",
       "      <th>4</th>\n",
       "      <td>CARD_PAYMENT</td>\n",
       "      <td>Current</td>\n",
       "      <td>2025-05-31 11:44:39</td>\n",
       "      <td>2025-06-01 14:30:08</td>\n",
       "      <td>Cinema City</td>\n",
       "      <td>-33.00</td>\n",
       "      <td>0.0</td>\n",
       "      <td>RON</td>\n",
       "      <td>COMPLETED</td>\n",
       "      <td>2069.64</td>\n",
       "    </tr>\n",
       "    <tr>\n",
       "      <th>5</th>\n",
       "      <td>CARD_PAYMENT</td>\n",
       "      <td>Current</td>\n",
       "      <td>2025-06-01 12:38:58</td>\n",
       "      <td>2025-06-02 05:35:16</td>\n",
       "      <td>STB Bucuresti</td>\n",
       "      <td>-6.00</td>\n",
       "      <td>0.0</td>\n",
       "      <td>RON</td>\n",
       "      <td>COMPLETED</td>\n",
       "      <td>2063.64</td>\n",
       "    </tr>\n",
       "    <tr>\n",
       "      <th>6</th>\n",
       "      <td>CARD_PAYMENT</td>\n",
       "      <td>Current</td>\n",
       "      <td>2025-06-01 14:38:56</td>\n",
       "      <td>2025-06-02 05:35:17</td>\n",
       "      <td>STB Bucuresti</td>\n",
       "      <td>-6.00</td>\n",
       "      <td>0.0</td>\n",
       "      <td>RON</td>\n",
       "      <td>COMPLETED</td>\n",
       "      <td>2057.64</td>\n",
       "    </tr>\n",
       "    <tr>\n",
       "      <th>7</th>\n",
       "      <td>CARD_PAYMENT</td>\n",
       "      <td>Current</td>\n",
       "      <td>2025-06-01 13:46:38</td>\n",
       "      <td>2025-06-02 07:35:29</td>\n",
       "      <td>Roxel Cart</td>\n",
       "      <td>-17.00</td>\n",
       "      <td>0.0</td>\n",
       "      <td>RON</td>\n",
       "      <td>COMPLETED</td>\n",
       "      <td>2040.64</td>\n",
       "    </tr>\n",
       "    <tr>\n",
       "      <th>8</th>\n",
       "      <td>TRANSFER</td>\n",
       "      <td>Current</td>\n",
       "      <td>2025-06-02 18:50:04</td>\n",
       "      <td>2025-06-02 18:50:04</td>\n",
       "      <td>Transfer from Revolut user</td>\n",
       "      <td>5.00</td>\n",
       "      <td>0.0</td>\n",
       "      <td>RON</td>\n",
       "      <td>COMPLETED</td>\n",
       "      <td>2045.64</td>\n",
       "    </tr>\n",
       "    <tr>\n",
       "      <th>9</th>\n",
       "      <td>TRANSFER</td>\n",
       "      <td>Current</td>\n",
       "      <td>2025-06-02 18:50:35</td>\n",
       "      <td>2025-06-02 18:50:36</td>\n",
       "      <td>Transfer to Revolut user</td>\n",
       "      <td>-5.00</td>\n",
       "      <td>0.0</td>\n",
       "      <td>RON</td>\n",
       "      <td>COMPLETED</td>\n",
       "      <td>2040.64</td>\n",
       "    </tr>\n",
       "  </tbody>\n",
       "</table>\n",
       "</div>"
      ],
      "text/plain": [
       "           Type  Product         Started Date       Completed Date  \\\n",
       "0  CARD_PAYMENT  Current  2025-05-31 14:43:41  2025-06-01 05:04:38   \n",
       "1  CARD_PAYMENT  Current  2025-05-31 13:06:08  2025-06-01 07:27:47   \n",
       "2  CARD_PAYMENT  Current  2025-05-31 18:06:35  2025-06-01 07:27:50   \n",
       "3  CARD_PAYMENT  Current  2025-05-31 18:49:10  2025-06-01 07:27:52   \n",
       "4  CARD_PAYMENT  Current  2025-05-31 11:44:39  2025-06-01 14:30:08   \n",
       "5  CARD_PAYMENT  Current  2025-06-01 12:38:58  2025-06-02 05:35:16   \n",
       "6  CARD_PAYMENT  Current  2025-06-01 14:38:56  2025-06-02 05:35:17   \n",
       "7  CARD_PAYMENT  Current  2025-06-01 13:46:38  2025-06-02 07:35:29   \n",
       "8      TRANSFER  Current  2025-06-02 18:50:04  2025-06-02 18:50:04   \n",
       "9      TRANSFER  Current  2025-06-02 18:50:35  2025-06-02 18:50:36   \n",
       "\n",
       "                  Description  Amount  Fee Currency      State  Balance  \n",
       "0                 Cinema City  -29.00  0.0      RON  COMPLETED  2163.36  \n",
       "1                  Mega Image   -7.78  0.0      RON  COMPLETED  2155.58  \n",
       "2                  Mega Image  -19.96  0.0      RON  COMPLETED  2135.62  \n",
       "3                  Mega Image  -32.98  0.0      RON  COMPLETED  2102.64  \n",
       "4                 Cinema City  -33.00  0.0      RON  COMPLETED  2069.64  \n",
       "5               STB Bucuresti   -6.00  0.0      RON  COMPLETED  2063.64  \n",
       "6               STB Bucuresti   -6.00  0.0      RON  COMPLETED  2057.64  \n",
       "7                  Roxel Cart  -17.00  0.0      RON  COMPLETED  2040.64  \n",
       "8  Transfer from Revolut user    5.00  0.0      RON  COMPLETED  2045.64  \n",
       "9    Transfer to Revolut user   -5.00  0.0      RON  COMPLETED  2040.64  "
      ]
     },
     "execution_count": 34,
     "metadata": {},
     "output_type": "execute_result"
    }
   ],
   "source": [
    "initial_data.head(10)"
   ]
  },
  {
   "cell_type": "markdown",
   "id": "c4445772",
   "metadata": {},
   "source": [
    "I want to remove the rows with missing data"
   ]
  },
  {
   "cell_type": "code",
   "execution_count": 35,
   "id": "48e95bba",
   "metadata": {},
   "outputs": [],
   "source": [
    "df = initial_data.dropna()"
   ]
  },
  {
   "cell_type": "code",
   "execution_count": 36,
   "id": "339efccf",
   "metadata": {},
   "outputs": [
    {
     "data": {
      "application/vnd.microsoft.datawrangler.viewer.v0+json": {
       "columns": [
        {
         "name": "index",
         "rawType": "int64",
         "type": "integer"
        },
        {
         "name": "Type",
         "rawType": "object",
         "type": "string"
        },
        {
         "name": "Product",
         "rawType": "object",
         "type": "string"
        },
        {
         "name": "Started Date",
         "rawType": "object",
         "type": "string"
        },
        {
         "name": "Completed Date",
         "rawType": "object",
         "type": "string"
        },
        {
         "name": "Description",
         "rawType": "object",
         "type": "string"
        },
        {
         "name": "Amount",
         "rawType": "float64",
         "type": "float"
        },
        {
         "name": "Fee",
         "rawType": "float64",
         "type": "float"
        },
        {
         "name": "Currency",
         "rawType": "object",
         "type": "string"
        },
        {
         "name": "State",
         "rawType": "object",
         "type": "string"
        },
        {
         "name": "Balance",
         "rawType": "float64",
         "type": "float"
        }
       ],
       "ref": "250dc419-a27c-42c8-8278-9111040e1f3c",
       "rows": [
        [
         "0",
         "CARD_PAYMENT",
         "Current",
         "2025-05-31 14:43:41",
         "2025-06-01 05:04:38",
         "Cinema City",
         "-29.0",
         "0.0",
         "RON",
         "COMPLETED",
         "2163.36"
        ],
        [
         "1",
         "CARD_PAYMENT",
         "Current",
         "2025-05-31 13:06:08",
         "2025-06-01 07:27:47",
         "Mega Image",
         "-7.78",
         "0.0",
         "RON",
         "COMPLETED",
         "2155.58"
        ],
        [
         "2",
         "CARD_PAYMENT",
         "Current",
         "2025-05-31 18:06:35",
         "2025-06-01 07:27:50",
         "Mega Image",
         "-19.96",
         "0.0",
         "RON",
         "COMPLETED",
         "2135.62"
        ],
        [
         "3",
         "CARD_PAYMENT",
         "Current",
         "2025-05-31 18:49:10",
         "2025-06-01 07:27:52",
         "Mega Image",
         "-32.98",
         "0.0",
         "RON",
         "COMPLETED",
         "2102.64"
        ],
        [
         "4",
         "CARD_PAYMENT",
         "Current",
         "2025-05-31 11:44:39",
         "2025-06-01 14:30:08",
         "Cinema City",
         "-33.0",
         "0.0",
         "RON",
         "COMPLETED",
         "2069.64"
        ],
        [
         "5",
         "CARD_PAYMENT",
         "Current",
         "2025-06-01 12:38:58",
         "2025-06-02 05:35:16",
         "STB Bucuresti",
         "-6.0",
         "0.0",
         "RON",
         "COMPLETED",
         "2063.64"
        ],
        [
         "6",
         "CARD_PAYMENT",
         "Current",
         "2025-06-01 14:38:56",
         "2025-06-02 05:35:17",
         "STB Bucuresti",
         "-6.0",
         "0.0",
         "RON",
         "COMPLETED",
         "2057.64"
        ],
        [
         "7",
         "CARD_PAYMENT",
         "Current",
         "2025-06-01 13:46:38",
         "2025-06-02 07:35:29",
         "Roxel Cart",
         "-17.0",
         "0.0",
         "RON",
         "COMPLETED",
         "2040.64"
        ],
        [
         "8",
         "TRANSFER",
         "Current",
         "2025-06-02 18:50:04",
         "2025-06-02 18:50:04",
         "Transfer from Revolut user",
         "5.0",
         "0.0",
         "RON",
         "COMPLETED",
         "2045.64"
        ],
        [
         "9",
         "TRANSFER",
         "Current",
         "2025-06-02 18:50:35",
         "2025-06-02 18:50:36",
         "Transfer to Revolut user",
         "-5.0",
         "0.0",
         "RON",
         "COMPLETED",
         "2040.64"
        ]
       ],
       "shape": {
        "columns": 10,
        "rows": 10
       }
      },
      "text/html": [
       "<div>\n",
       "<style scoped>\n",
       "    .dataframe tbody tr th:only-of-type {\n",
       "        vertical-align: middle;\n",
       "    }\n",
       "\n",
       "    .dataframe tbody tr th {\n",
       "        vertical-align: top;\n",
       "    }\n",
       "\n",
       "    .dataframe thead th {\n",
       "        text-align: right;\n",
       "    }\n",
       "</style>\n",
       "<table border=\"1\" class=\"dataframe\">\n",
       "  <thead>\n",
       "    <tr style=\"text-align: right;\">\n",
       "      <th></th>\n",
       "      <th>Type</th>\n",
       "      <th>Product</th>\n",
       "      <th>Started Date</th>\n",
       "      <th>Completed Date</th>\n",
       "      <th>Description</th>\n",
       "      <th>Amount</th>\n",
       "      <th>Fee</th>\n",
       "      <th>Currency</th>\n",
       "      <th>State</th>\n",
       "      <th>Balance</th>\n",
       "    </tr>\n",
       "  </thead>\n",
       "  <tbody>\n",
       "    <tr>\n",
       "      <th>0</th>\n",
       "      <td>CARD_PAYMENT</td>\n",
       "      <td>Current</td>\n",
       "      <td>2025-05-31 14:43:41</td>\n",
       "      <td>2025-06-01 05:04:38</td>\n",
       "      <td>Cinema City</td>\n",
       "      <td>-29.00</td>\n",
       "      <td>0.0</td>\n",
       "      <td>RON</td>\n",
       "      <td>COMPLETED</td>\n",
       "      <td>2163.36</td>\n",
       "    </tr>\n",
       "    <tr>\n",
       "      <th>1</th>\n",
       "      <td>CARD_PAYMENT</td>\n",
       "      <td>Current</td>\n",
       "      <td>2025-05-31 13:06:08</td>\n",
       "      <td>2025-06-01 07:27:47</td>\n",
       "      <td>Mega Image</td>\n",
       "      <td>-7.78</td>\n",
       "      <td>0.0</td>\n",
       "      <td>RON</td>\n",
       "      <td>COMPLETED</td>\n",
       "      <td>2155.58</td>\n",
       "    </tr>\n",
       "    <tr>\n",
       "      <th>2</th>\n",
       "      <td>CARD_PAYMENT</td>\n",
       "      <td>Current</td>\n",
       "      <td>2025-05-31 18:06:35</td>\n",
       "      <td>2025-06-01 07:27:50</td>\n",
       "      <td>Mega Image</td>\n",
       "      <td>-19.96</td>\n",
       "      <td>0.0</td>\n",
       "      <td>RON</td>\n",
       "      <td>COMPLETED</td>\n",
       "      <td>2135.62</td>\n",
       "    </tr>\n",
       "    <tr>\n",
       "      <th>3</th>\n",
       "      <td>CARD_PAYMENT</td>\n",
       "      <td>Current</td>\n",
       "      <td>2025-05-31 18:49:10</td>\n",
       "      <td>2025-06-01 07:27:52</td>\n",
       "      <td>Mega Image</td>\n",
       "      <td>-32.98</td>\n",
       "      <td>0.0</td>\n",
       "      <td>RON</td>\n",
       "      <td>COMPLETED</td>\n",
       "      <td>2102.64</td>\n",
       "    </tr>\n",
       "    <tr>\n",
       "      <th>4</th>\n",
       "      <td>CARD_PAYMENT</td>\n",
       "      <td>Current</td>\n",
       "      <td>2025-05-31 11:44:39</td>\n",
       "      <td>2025-06-01 14:30:08</td>\n",
       "      <td>Cinema City</td>\n",
       "      <td>-33.00</td>\n",
       "      <td>0.0</td>\n",
       "      <td>RON</td>\n",
       "      <td>COMPLETED</td>\n",
       "      <td>2069.64</td>\n",
       "    </tr>\n",
       "    <tr>\n",
       "      <th>5</th>\n",
       "      <td>CARD_PAYMENT</td>\n",
       "      <td>Current</td>\n",
       "      <td>2025-06-01 12:38:58</td>\n",
       "      <td>2025-06-02 05:35:16</td>\n",
       "      <td>STB Bucuresti</td>\n",
       "      <td>-6.00</td>\n",
       "      <td>0.0</td>\n",
       "      <td>RON</td>\n",
       "      <td>COMPLETED</td>\n",
       "      <td>2063.64</td>\n",
       "    </tr>\n",
       "    <tr>\n",
       "      <th>6</th>\n",
       "      <td>CARD_PAYMENT</td>\n",
       "      <td>Current</td>\n",
       "      <td>2025-06-01 14:38:56</td>\n",
       "      <td>2025-06-02 05:35:17</td>\n",
       "      <td>STB Bucuresti</td>\n",
       "      <td>-6.00</td>\n",
       "      <td>0.0</td>\n",
       "      <td>RON</td>\n",
       "      <td>COMPLETED</td>\n",
       "      <td>2057.64</td>\n",
       "    </tr>\n",
       "    <tr>\n",
       "      <th>7</th>\n",
       "      <td>CARD_PAYMENT</td>\n",
       "      <td>Current</td>\n",
       "      <td>2025-06-01 13:46:38</td>\n",
       "      <td>2025-06-02 07:35:29</td>\n",
       "      <td>Roxel Cart</td>\n",
       "      <td>-17.00</td>\n",
       "      <td>0.0</td>\n",
       "      <td>RON</td>\n",
       "      <td>COMPLETED</td>\n",
       "      <td>2040.64</td>\n",
       "    </tr>\n",
       "    <tr>\n",
       "      <th>8</th>\n",
       "      <td>TRANSFER</td>\n",
       "      <td>Current</td>\n",
       "      <td>2025-06-02 18:50:04</td>\n",
       "      <td>2025-06-02 18:50:04</td>\n",
       "      <td>Transfer from Revolut user</td>\n",
       "      <td>5.00</td>\n",
       "      <td>0.0</td>\n",
       "      <td>RON</td>\n",
       "      <td>COMPLETED</td>\n",
       "      <td>2045.64</td>\n",
       "    </tr>\n",
       "    <tr>\n",
       "      <th>9</th>\n",
       "      <td>TRANSFER</td>\n",
       "      <td>Current</td>\n",
       "      <td>2025-06-02 18:50:35</td>\n",
       "      <td>2025-06-02 18:50:36</td>\n",
       "      <td>Transfer to Revolut user</td>\n",
       "      <td>-5.00</td>\n",
       "      <td>0.0</td>\n",
       "      <td>RON</td>\n",
       "      <td>COMPLETED</td>\n",
       "      <td>2040.64</td>\n",
       "    </tr>\n",
       "  </tbody>\n",
       "</table>\n",
       "</div>"
      ],
      "text/plain": [
       "           Type  Product         Started Date       Completed Date  \\\n",
       "0  CARD_PAYMENT  Current  2025-05-31 14:43:41  2025-06-01 05:04:38   \n",
       "1  CARD_PAYMENT  Current  2025-05-31 13:06:08  2025-06-01 07:27:47   \n",
       "2  CARD_PAYMENT  Current  2025-05-31 18:06:35  2025-06-01 07:27:50   \n",
       "3  CARD_PAYMENT  Current  2025-05-31 18:49:10  2025-06-01 07:27:52   \n",
       "4  CARD_PAYMENT  Current  2025-05-31 11:44:39  2025-06-01 14:30:08   \n",
       "5  CARD_PAYMENT  Current  2025-06-01 12:38:58  2025-06-02 05:35:16   \n",
       "6  CARD_PAYMENT  Current  2025-06-01 14:38:56  2025-06-02 05:35:17   \n",
       "7  CARD_PAYMENT  Current  2025-06-01 13:46:38  2025-06-02 07:35:29   \n",
       "8      TRANSFER  Current  2025-06-02 18:50:04  2025-06-02 18:50:04   \n",
       "9      TRANSFER  Current  2025-06-02 18:50:35  2025-06-02 18:50:36   \n",
       "\n",
       "                  Description  Amount  Fee Currency      State  Balance  \n",
       "0                 Cinema City  -29.00  0.0      RON  COMPLETED  2163.36  \n",
       "1                  Mega Image   -7.78  0.0      RON  COMPLETED  2155.58  \n",
       "2                  Mega Image  -19.96  0.0      RON  COMPLETED  2135.62  \n",
       "3                  Mega Image  -32.98  0.0      RON  COMPLETED  2102.64  \n",
       "4                 Cinema City  -33.00  0.0      RON  COMPLETED  2069.64  \n",
       "5               STB Bucuresti   -6.00  0.0      RON  COMPLETED  2063.64  \n",
       "6               STB Bucuresti   -6.00  0.0      RON  COMPLETED  2057.64  \n",
       "7                  Roxel Cart  -17.00  0.0      RON  COMPLETED  2040.64  \n",
       "8  Transfer from Revolut user    5.00  0.0      RON  COMPLETED  2045.64  \n",
       "9    Transfer to Revolut user   -5.00  0.0      RON  COMPLETED  2040.64  "
      ]
     },
     "execution_count": 36,
     "metadata": {},
     "output_type": "execute_result"
    }
   ],
   "source": [
    "df.head(10)"
   ]
  },
  {
   "cell_type": "code",
   "execution_count": 37,
   "id": "e75af642",
   "metadata": {},
   "outputs": [],
   "source": [
    "df_missing_val_check = df.isnull().sum()"
   ]
  },
  {
   "cell_type": "markdown",
   "id": "36846b83",
   "metadata": {},
   "source": [
    "We check if we have any missing values"
   ]
  },
  {
   "cell_type": "code",
   "execution_count": 38,
   "id": "7bdb01a9",
   "metadata": {},
   "outputs": [
    {
     "data": {
      "application/vnd.microsoft.datawrangler.viewer.v0+json": {
       "columns": [
        {
         "name": "index",
         "rawType": "object",
         "type": "string"
        },
        {
         "name": "0",
         "rawType": "int64",
         "type": "integer"
        }
       ],
       "ref": "4b191176-0876-4ad4-92af-20e46d5ffe53",
       "rows": [
        [
         "Type",
         "0"
        ],
        [
         "Product",
         "0"
        ],
        [
         "Started Date",
         "0"
        ],
        [
         "Completed Date",
         "0"
        ],
        [
         "Description",
         "0"
        ],
        [
         "Amount",
         "0"
        ],
        [
         "Fee",
         "0"
        ],
        [
         "Currency",
         "0"
        ],
        [
         "State",
         "0"
        ],
        [
         "Balance",
         "0"
        ]
       ],
       "shape": {
        "columns": 1,
        "rows": 10
       }
      },
      "text/plain": [
       "Type              0\n",
       "Product           0\n",
       "Started Date      0\n",
       "Completed Date    0\n",
       "Description       0\n",
       "Amount            0\n",
       "Fee               0\n",
       "Currency          0\n",
       "State             0\n",
       "Balance           0\n",
       "dtype: int64"
      ]
     },
     "execution_count": 38,
     "metadata": {},
     "output_type": "execute_result"
    }
   ],
   "source": [
    "df_missing_val_check"
   ]
  },
  {
   "cell_type": "code",
   "execution_count": 42,
   "id": "09cbd78f",
   "metadata": {},
   "outputs": [],
   "source": [
    "df = df.dropna().copy()"
   ]
  },
  {
   "cell_type": "markdown",
   "id": "26d9bf3d",
   "metadata": {},
   "source": [
    "I wanna see how my balance dropped over time\n",
    "I first need to convert the 'Completed Date' into a datetime format"
   ]
  },
  {
   "cell_type": "code",
   "execution_count": 43,
   "id": "e86eaa64",
   "metadata": {},
   "outputs": [],
   "source": [
    "df.loc[:, \"Completed Date\"] = pd.to_datetime(df[\"Completed Date\"])"
   ]
  },
  {
   "cell_type": "markdown",
   "id": "a164e403",
   "metadata": {},
   "source": [
    "We sort by date time"
   ]
  },
  {
   "cell_type": "code",
   "execution_count": 44,
   "id": "b2903243",
   "metadata": {},
   "outputs": [],
   "source": [
    "df = df.sort_values(\"Completed Date\")"
   ]
  },
  {
   "cell_type": "code",
   "execution_count": 45,
   "id": "481873bb",
   "metadata": {},
   "outputs": [
    {
     "data": {
      "image/png": "[encoded data removed]",
      "text/plain": [
       "<Figure size 1200x600 with 1 Axes>"
      ]
     },
     "metadata": {},
     "output_type": "display_data"
    }
   ],
   "source": [
    "plt.figure(figsize=(12, 6))\n",
    "plt.plot(df[\"Completed Date\"], df[\"Balance\"], marker=\"o\", linestyle=\"-\")\n",
    "plt.title(\"Balance Over Time\")\n",
    "plt.xlabel(\"Date\")\n",
    "plt.ylabel(\"Balance (RON)\")\n",
    "plt.grid(True)\n",
    "plt.tight_layout()\n",
    "\n",
    "plt.savefig('balance_over_time.png', dpi=300)\n",
    "\n",
    "plt.show()"
   ]
  },
  {
   "cell_type": "markdown",
   "id": "d6a52a17",
   "metadata": {},
   "source": [
    "I am curious about my total amount spent at Starbucks"
   ]
  },
  {
   "cell_type": "code",
   "execution_count": 46,
   "id": "bd686fc0",
   "metadata": {},
   "outputs": [],
   "source": [
    "starbucks_spend = df[(df[\"Description\"] == \"Starbucks\") & (df[\"Amount\"] < 0)]"
   ]
  },
  {
   "cell_type": "code",
   "execution_count": 47,
   "id": "0ca60edb",
   "metadata": {},
   "outputs": [],
   "source": [
    "total_spent = starbucks_spend[\"Amount\"].sum()"
   ]
  },
  {
   "cell_type": "code",
   "execution_count": 48,
   "id": "d14e38de",
   "metadata": {},
   "outputs": [
    {
     "name": "stdout",
     "output_type": "stream",
     "text": [
      "Total spent at Starbucks: -73.60 RON\n"
     ]
    }
   ],
   "source": [
    "print(f\"Total spent at Starbucks: {total_spent:.2f} RON\")"
   ]
  },
  {
   "cell_type": "markdown",
   "id": "1f89ec8a",
   "metadata": {},
   "source": [
    "Let's look at a daily spending trend"
   ]
  },
  {
   "cell_type": "code",
   "execution_count": 49,
   "id": "69464dd8",
   "metadata": {},
   "outputs": [],
   "source": [
    "df[\"Completed Date\"] = pd.to_datetime(df[\"Completed Date\"])\n",
    "daily_spend = df[df[\"Amount\"] < 0].groupby(df[\"Completed Date\"].dt.date)[\"Amount\"].sum()"
   ]
  },
  {
   "cell_type": "code",
   "execution_count": 50,
   "id": "cf0b974d",
   "metadata": {},
   "outputs": [
    {
     "data": {
      "text/plain": [
       "<Axes: title={'center': 'Daily Spending Trend'}, xlabel='Completed Date'>"
      ]
     },
     "execution_count": 50,
     "metadata": {},
     "output_type": "execute_result"
    },
    {
     "data": {
      "image/png": "[encoded data removed]",
      "text/plain": [
       "<Figure size 1000x500 with 1 Axes>"
      ]
     },
     "metadata": {},
     "output_type": "display_data"
    }
   ],
   "source": [
    "daily_spend.plot(kind=\"line\", figsize=(10, 5), marker=\"o\", title=\"Daily Spending Trend\")"
   ]
  },
  {
   "cell_type": "markdown",
   "id": "6ad8c3c4",
   "metadata": {},
   "source": [
    "Let's visualize a heatmap by Weekend and Hour"
   ]
  },
  {
   "cell_type": "code",
   "execution_count": 51,
   "id": "7cd4688d",
   "metadata": {},
   "outputs": [],
   "source": [
    "import seaborn as sns"
   ]
  },
  {
   "cell_type": "code",
   "execution_count": 55,
   "id": "90d5fa6b",
   "metadata": {},
   "outputs": [],
   "source": [
    "df[\"Amount\"] = pd.to_numeric(df[\"Amount\"], errors=\"coerce\")"
   ]
  },
  {
   "cell_type": "code",
   "execution_count": 56,
   "id": "92c55087",
   "metadata": {},
   "outputs": [],
   "source": [
    "df = df.dropna(subset=[\"Weekday\", \"Hour\", \"Amount\"])"
   ]
  },
  {
   "cell_type": "code",
   "execution_count": 57,
   "id": "23d52726",
   "metadata": {},
   "outputs": [],
   "source": [
    "df[\"Weekday\"] = df[\"Completed Date\"].dt.day_name()\n",
    "df[\"Hour\"] = df[\"Completed Date\"].dt.hour\n",
    "\n",
    "heatmap_data = df[df[\"Amount\"] < 0].groupby([\"Weekday\", \"Hour\"])[\"Amount\"].sum().unstack(fill_value=0)"
   ]
  },
  {
   "cell_type": "markdown",
   "id": "b450f7d4",
   "metadata": {},
   "source": [
    "Let's reorder days for a better output"
   ]
  },
  {
   "cell_type": "code",
   "execution_count": 58,
   "id": "7decb8dc",
   "metadata": {},
   "outputs": [],
   "source": [
    "days_order = [\"Monday\", \"Tuesday\", \"Wednesday\", \"Thursday\", \"Friday\", \"Saturday\", \"Sunday\"]\n",
    "heatmap_data = heatmap_data.reindex(days_order)"
   ]
  },
  {
   "cell_type": "code",
   "execution_count": 59,
   "id": "a0f39c7d",
   "metadata": {},
   "outputs": [
    {
     "data": {
      "image/png": "[encoded data removed]",
      "text/plain": [
       "<Figure size 1400x600 with 2 Axes>"
      ]
     },
     "metadata": {},
     "output_type": "display_data"
    }
   ],
   "source": [
    "plt.figure(figsize=(14, 6))\n",
    "sns.heatmap(heatmap_data, cmap=\"YlGnBu\")\n",
    "plt.title(\"Spending Heatmap by Weekday and Hour\")\n",
    "plt.xlabel(\"Hour\")\n",
    "plt.ylabel(\"Weekday\")\n",
    "plt.tight_layout()\n",
    "\n",
    "plt.savefig('spending_heatmap_wk_hour.png', dpi=300)\n",
    "\n",
    "plt.show()"
   ]
  },
  {
   "cell_type": "markdown",
   "id": "dca7fb50",
   "metadata": {},
   "source": [
    "Let's see the Top 10 Spending Locations"
   ]
  },
  {
   "cell_type": "code",
   "execution_count": 60,
   "id": "8dc36bb7",
   "metadata": {},
   "outputs": [
    {
     "data": {
      "image/png": "[encoded data removed]",
      "text/plain": [
       "<Figure size 1000x600 with 1 Axes>"
      ]
     },
     "metadata": {},
     "output_type": "display_data"
    }
   ],
   "source": [
    "top10 = df[df[\"Amount\"] < 0].groupby(\"Description\")[\"Amount\"].sum().sort_values().head(10)\n",
    "\n",
    "plt.figure(figsize=(10, 6))\n",
    "top10.plot(kind=\"barh\", color=\"coral\")\n",
    "plt.title(\"Top 10 Places You Spent Money\")\n",
    "plt.xlabel(\"Total Amount Spent (RON)\")\n",
    "plt.tight_layout()\n",
    "plt.show()"
   ]
  }
 ],
 "metadata": {
  "kernelspec": {
   "display_name": "Python 3",
   "language": "python",
   "name": "python3"
  },
  "language_info": {
   "codemirror_mode": {
    "name": "ipython",
    "version": 3
   },
   "file_extension": ".py",
   "mimetype": "text/x-python",
   "name": "python",
   "nbconvert_exporter": "python",
   "pygments_lexer": "ipython3",
   "version": "3.11.13"
  }
 },
 "nbformat": 4,
 "nbformat_minor": 5
}
